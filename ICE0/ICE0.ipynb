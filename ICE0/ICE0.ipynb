{
 "cells": [
  {
   "cell_type": "markdown",
   "id": "f5524a73",
   "metadata": {},
   "source": [
    "# ICE 0\n",
    "### Nicolas Dussaillant"
   ]
  },
  {
   "cell_type": "markdown",
   "id": "ddeed2d6",
   "metadata": {},
   "source": [
    "To start:"
   ]
  },
  {
   "cell_type": "code",
   "execution_count": 5,
   "id": "cb0c1582",
   "metadata": {
    "scrolled": true
   },
   "outputs": [
    {
     "name": "stdout",
     "output_type": "stream",
     "text": [
      "Hello World\n"
     ]
    }
   ],
   "source": [
    "print(\"Hello World\")"
   ]
  },
  {
   "cell_type": "markdown",
   "id": "0876d609",
   "metadata": {},
   "source": [
    "We will do the next operation:\n",
    "\n",
    "$\\displaystyle\\sum_{x=1}^{20}x^x$"
   ]
  },
  {
   "cell_type": "code",
   "execution_count": 6,
   "id": "1fc5ec5d",
   "metadata": {},
   "outputs": [
    {
     "name": "stdout",
     "output_type": "stream",
     "text": [
      "The sum is: 2018612200059554303215024\n"
     ]
    }
   ],
   "source": [
    "s = 0\n",
    "for x in range(1,20):\n",
    "    s += x**x\n",
    "print(\"The sum is:\", s)"
   ]
  },
  {
   "cell_type": "markdown",
   "id": "aac1dbe7",
   "metadata": {},
   "source": [
    "As Python changes variables types, lets check if for the last code s was changed into BigNum instead of a \\<long\\>"
   ]
  },
  {
   "cell_type": "code",
   "execution_count": 7,
   "id": "ab0096cd",
   "metadata": {},
   "outputs": [
    {
     "name": "stdout",
     "output_type": "stream",
     "text": [
      "<class 'int'>\n"
     ]
    }
   ],
   "source": [
    "print(type(s))"
   ]
  },
  {
   "cell_type": "code",
   "execution_count": 1,
   "id": "99134662",
   "metadata": {},
   "outputs": [
    {
     "name": "stdout",
     "output_type": "stream",
     "text": [
      "The Zen of Python, by Tim Peters\n",
      "\n",
      "Beautiful is better than ugly.\n",
      "Explicit is better than implicit.\n",
      "Simple is better than complex.\n",
      "Complex is better than complicated.\n",
      "Flat is better than nested.\n",
      "Sparse is better than dense.\n",
      "Readability counts.\n",
      "Special cases aren't special enough to break the rules.\n",
      "Although practicality beats purity.\n",
      "Errors should never pass silently.\n",
      "Unless explicitly silenced.\n",
      "In the face of ambiguity, refuse the temptation to guess.\n",
      "There should be one-- and preferably only one --obvious way to do it.\n",
      "Although that way may not be obvious at first unless you're Dutch.\n",
      "Now is better than never.\n",
      "Although never is often better than *right* now.\n",
      "If the implementation is hard to explain, it's a bad idea.\n",
      "If the implementation is easy to explain, it may be a good idea.\n",
      "Namespaces are one honking great idea -- let's do more of those!\n"
     ]
    }
   ],
   "source": [
    "import this"
   ]
  },
  {
   "cell_type": "code",
   "execution_count": 2,
   "id": "3bc4235d",
   "metadata": {},
   "outputs": [
    {
     "data": {
      "text/plain": [
       "'/Users/ndussaillant/Documents/Courses/EDM/Portfolio/hudk4050/ICE0'"
      ]
     },
     "execution_count": 2,
     "metadata": {},
     "output_type": "execute_result"
    }
   ],
   "source": [
    "import os\n",
    "os.getcwd()"
   ]
  }
 ],
 "metadata": {
  "kernelspec": {
   "display_name": "Python 3 (ipykernel)",
   "language": "python",
   "name": "python3"
  },
  "language_info": {
   "codemirror_mode": {
    "name": "ipython",
    "version": 3
   },
   "file_extension": ".py",
   "mimetype": "text/x-python",
   "name": "python",
   "nbconvert_exporter": "python",
   "pygments_lexer": "ipython3",
   "version": "3.8.12"
  }
 },
 "nbformat": 4,
 "nbformat_minor": 5
}
