{
 "cells": [
  {
   "cell_type": "markdown",
   "id": "81e22773",
   "metadata": {},
   "source": [
    "## Analysis Challenge Assignment 2\n",
    "\n",
    "**Author**: Nicolás Dussaillant<br />\n",
    "Core Methods in Educational Data Mining"
   ]
  },
  {
   "cell_type": "markdown",
   "id": "1ed5bd4b",
   "metadata": {},
   "source": [
    "The following information shows the process of the search for a classification algorithm that can predict when children are working On-task or Off-task based on a list of observations with different variables that might be used as predictors."
   ]
  },
  {
   "cell_type": "markdown",
   "id": "c22811ae",
   "metadata": {},
   "source": [
    "## 1. Import data"
   ]
  },
  {
   "cell_type": "code",
   "execution_count": 1,
   "id": "7bcf1761",
   "metadata": {},
   "outputs": [],
   "source": [
    "import pandas as pd\n",
    "\n",
    "cols = [\n",
    "        'SCHOOL',\n",
    "        'GRADE',\n",
    "        'CODER',\n",
    "        'Gender',\n",
    "        'OBSNUM',\n",
    "        'totalobs-forsession',\n",
    "        'Activity',\n",
    "        'ONTASK',\n",
    "        'TRANSITIONS',\n",
    "        'FORMATchanges',\n",
    "        'Obsv/act',\n",
    "        'Transitions/Durations',\n",
    "        'Total Time'\n",
    "        ]\n",
    "df = pd.read_csv('aca2_dataset/aca2_dataset_training.csv', usecols = cols)\n",
    "dv = pd.read_csv('aca2_dataset/aca2_dataset_validation.csv', usecols = cols)"
   ]
  },
  {
   "cell_type": "markdown",
   "id": "e90a3692",
   "metadata": {},
   "source": [
    "## 2. Analyze data"
   ]
  },
  {
   "cell_type": "markdown",
   "id": "eef313d3",
   "metadata": {},
   "source": [
    "Check On-task and Off-task data"
   ]
  },
  {
   "cell_type": "code",
   "execution_count": 5,
   "id": "d80c4ff0",
   "metadata": {
    "scrolled": true
   },
   "outputs": [
    {
     "name": "stdout",
     "output_type": "stream",
     "text": [
      "Y    14938\n",
      "N     7246\n",
      "Name: ONTASK, dtype: int64\n"
     ]
    },
    {
     "data": {
      "text/plain": [
       "Y    0.673368\n",
       "N    0.326632\n",
       "Name: ONTASK, dtype: float64"
      ]
     },
     "execution_count": 5,
     "metadata": {},
     "output_type": "execute_result"
    }
   ],
   "source": [
    "print(df.ONTASK.value_counts())\n",
    "df.ONTASK.value_counts(normalize = True)"
   ]
  },
  {
   "cell_type": "markdown",
   "id": "2f6688f5",
   "metadata": {},
   "source": [
    "Check On- and Off-task against the categorical variables"
   ]
  },
  {
   "cell_type": "code",
   "execution_count": 17,
   "id": "bbb516c1",
   "metadata": {
    "scrolled": false
   },
   "outputs": [
    {
     "data": {
      "text/html": [
       "<div>\n",
       "<style scoped>\n",
       "    .dataframe tbody tr th:only-of-type {\n",
       "        vertical-align: middle;\n",
       "    }\n",
       "\n",
       "    .dataframe tbody tr th {\n",
       "        vertical-align: top;\n",
       "    }\n",
       "\n",
       "    .dataframe thead th {\n",
       "        text-align: right;\n",
       "    }\n",
       "</style>\n",
       "<table border=\"1\" class=\"dataframe\">\n",
       "  <thead>\n",
       "    <tr style=\"text-align: right;\">\n",
       "      <th>SCHOOL</th>\n",
       "      <th>A</th>\n",
       "      <th>B</th>\n",
       "      <th>C</th>\n",
       "      <th>D</th>\n",
       "      <th>E</th>\n",
       "    </tr>\n",
       "    <tr>\n",
       "      <th>ONTASK</th>\n",
       "      <th></th>\n",
       "      <th></th>\n",
       "      <th></th>\n",
       "      <th></th>\n",
       "      <th></th>\n",
       "    </tr>\n",
       "  </thead>\n",
       "  <tbody>\n",
       "    <tr>\n",
       "      <th>N</th>\n",
       "      <td>0.311119</td>\n",
       "      <td>0.320979</td>\n",
       "      <td>0.289194</td>\n",
       "      <td>0.346372</td>\n",
       "      <td>0.377336</td>\n",
       "    </tr>\n",
       "    <tr>\n",
       "      <th>Y</th>\n",
       "      <td>0.688881</td>\n",
       "      <td>0.679021</td>\n",
       "      <td>0.710806</td>\n",
       "      <td>0.653628</td>\n",
       "      <td>0.622664</td>\n",
       "    </tr>\n",
       "  </tbody>\n",
       "</table>\n",
       "</div>"
      ],
      "text/plain": [
       "SCHOOL         A         B         C         D         E\n",
       "ONTASK                                                  \n",
       "N       0.311119  0.320979  0.289194  0.346372  0.377336\n",
       "Y       0.688881  0.679021  0.710806  0.653628  0.622664"
      ]
     },
     "metadata": {},
     "output_type": "display_data"
    },
    {
     "data": {
      "text/html": [
       "<div>\n",
       "<style scoped>\n",
       "    .dataframe tbody tr th:only-of-type {\n",
       "        vertical-align: middle;\n",
       "    }\n",
       "\n",
       "    .dataframe tbody tr th {\n",
       "        vertical-align: top;\n",
       "    }\n",
       "\n",
       "    .dataframe thead th {\n",
       "        text-align: right;\n",
       "    }\n",
       "</style>\n",
       "<table border=\"1\" class=\"dataframe\">\n",
       "  <thead>\n",
       "    <tr style=\"text-align: right;\">\n",
       "      <th>CODER</th>\n",
       "      <th>Y</th>\n",
       "      <th>Z</th>\n",
       "    </tr>\n",
       "    <tr>\n",
       "      <th>ONTASK</th>\n",
       "      <th></th>\n",
       "      <th></th>\n",
       "    </tr>\n",
       "  </thead>\n",
       "  <tbody>\n",
       "    <tr>\n",
       "      <th>N</th>\n",
       "      <td>0.291753</td>\n",
       "      <td>0.328227</td>\n",
       "    </tr>\n",
       "    <tr>\n",
       "      <th>Y</th>\n",
       "      <td>0.708247</td>\n",
       "      <td>0.671773</td>\n",
       "    </tr>\n",
       "  </tbody>\n",
       "</table>\n",
       "</div>"
      ],
      "text/plain": [
       "CODER          Y         Z\n",
       "ONTASK                    \n",
       "N       0.291753  0.328227\n",
       "Y       0.708247  0.671773"
      ]
     },
     "metadata": {},
     "output_type": "display_data"
    },
    {
     "data": {
      "text/html": [
       "<div>\n",
       "<style scoped>\n",
       "    .dataframe tbody tr th:only-of-type {\n",
       "        vertical-align: middle;\n",
       "    }\n",
       "\n",
       "    .dataframe tbody tr th {\n",
       "        vertical-align: top;\n",
       "    }\n",
       "\n",
       "    .dataframe thead th {\n",
       "        text-align: right;\n",
       "    }\n",
       "</style>\n",
       "<table border=\"1\" class=\"dataframe\">\n",
       "  <thead>\n",
       "    <tr style=\"text-align: right;\">\n",
       "      <th>GRADE</th>\n",
       "      <th>0</th>\n",
       "      <th>1</th>\n",
       "      <th>2</th>\n",
       "      <th>3</th>\n",
       "      <th>4</th>\n",
       "    </tr>\n",
       "    <tr>\n",
       "      <th>ONTASK</th>\n",
       "      <th></th>\n",
       "      <th></th>\n",
       "      <th></th>\n",
       "      <th></th>\n",
       "      <th></th>\n",
       "    </tr>\n",
       "  </thead>\n",
       "  <tbody>\n",
       "    <tr>\n",
       "      <th>N</th>\n",
       "      <td>0.2854</td>\n",
       "      <td>0.3344</td>\n",
       "      <td>0.322007</td>\n",
       "      <td>0.284287</td>\n",
       "      <td>0.365805</td>\n",
       "    </tr>\n",
       "    <tr>\n",
       "      <th>Y</th>\n",
       "      <td>0.7146</td>\n",
       "      <td>0.6656</td>\n",
       "      <td>0.677993</td>\n",
       "      <td>0.715713</td>\n",
       "      <td>0.634195</td>\n",
       "    </tr>\n",
       "  </tbody>\n",
       "</table>\n",
       "</div>"
      ],
      "text/plain": [
       "GRADE        0       1         2         3         4\n",
       "ONTASK                                              \n",
       "N       0.2854  0.3344  0.322007  0.284287  0.365805\n",
       "Y       0.7146  0.6656  0.677993  0.715713  0.634195"
      ]
     },
     "metadata": {},
     "output_type": "display_data"
    },
    {
     "data": {
      "text/html": [
       "<div>\n",
       "<style scoped>\n",
       "    .dataframe tbody tr th:only-of-type {\n",
       "        vertical-align: middle;\n",
       "    }\n",
       "\n",
       "    .dataframe tbody tr th {\n",
       "        vertical-align: top;\n",
       "    }\n",
       "\n",
       "    .dataframe thead th {\n",
       "        text-align: right;\n",
       "    }\n",
       "</style>\n",
       "<table border=\"1\" class=\"dataframe\">\n",
       "  <thead>\n",
       "    <tr style=\"text-align: right;\">\n",
       "      <th>Gender</th>\n",
       "      <th>0</th>\n",
       "      <th>1</th>\n",
       "    </tr>\n",
       "    <tr>\n",
       "      <th>ONTASK</th>\n",
       "      <th></th>\n",
       "      <th></th>\n",
       "    </tr>\n",
       "  </thead>\n",
       "  <tbody>\n",
       "    <tr>\n",
       "      <th>N</th>\n",
       "      <td>0.348251</td>\n",
       "      <td>0.305563</td>\n",
       "    </tr>\n",
       "    <tr>\n",
       "      <th>Y</th>\n",
       "      <td>0.651749</td>\n",
       "      <td>0.694437</td>\n",
       "    </tr>\n",
       "  </tbody>\n",
       "</table>\n",
       "</div>"
      ],
      "text/plain": [
       "Gender         0         1\n",
       "ONTASK                    \n",
       "N       0.348251  0.305563\n",
       "Y       0.651749  0.694437"
      ]
     },
     "metadata": {},
     "output_type": "display_data"
    },
    {
     "data": {
      "text/html": [
       "<div>\n",
       "<style scoped>\n",
       "    .dataframe tbody tr th:only-of-type {\n",
       "        vertical-align: middle;\n",
       "    }\n",
       "\n",
       "    .dataframe tbody tr th {\n",
       "        vertical-align: top;\n",
       "    }\n",
       "\n",
       "    .dataframe thead th {\n",
       "        text-align: right;\n",
       "    }\n",
       "</style>\n",
       "<table border=\"1\" class=\"dataframe\">\n",
       "  <thead>\n",
       "    <tr style=\"text-align: right;\">\n",
       "      <th>Activity</th>\n",
       "      <th>Dancing</th>\n",
       "      <th>Individual</th>\n",
       "      <th>Smallgroup</th>\n",
       "      <th>Testing</th>\n",
       "      <th>Wholecarpet</th>\n",
       "      <th>Wholedesks</th>\n",
       "    </tr>\n",
       "    <tr>\n",
       "      <th>ONTASK</th>\n",
       "      <th></th>\n",
       "      <th></th>\n",
       "      <th></th>\n",
       "      <th></th>\n",
       "      <th></th>\n",
       "      <th></th>\n",
       "    </tr>\n",
       "  </thead>\n",
       "  <tbody>\n",
       "    <tr>\n",
       "      <th>N</th>\n",
       "      <td>0.222222</td>\n",
       "      <td>0.344987</td>\n",
       "      <td>0.291262</td>\n",
       "      <td>0.23913</td>\n",
       "      <td>0.313043</td>\n",
       "      <td>0.353863</td>\n",
       "    </tr>\n",
       "    <tr>\n",
       "      <th>Y</th>\n",
       "      <td>0.777778</td>\n",
       "      <td>0.655013</td>\n",
       "      <td>0.708738</td>\n",
       "      <td>0.76087</td>\n",
       "      <td>0.686957</td>\n",
       "      <td>0.646137</td>\n",
       "    </tr>\n",
       "  </tbody>\n",
       "</table>\n",
       "</div>"
      ],
      "text/plain": [
       "Activity   Dancing  Individual  Smallgroup  Testing  Wholecarpet  Wholedesks\n",
       "ONTASK                                                                      \n",
       "N         0.222222    0.344987    0.291262  0.23913     0.313043    0.353863\n",
       "Y         0.777778    0.655013    0.708738  0.76087     0.686957    0.646137"
      ]
     },
     "metadata": {},
     "output_type": "display_data"
    }
   ],
   "source": [
    "display(pd.crosstab(df.ONTASK, df.SCHOOL, normalize='columns'))\n",
    "display(pd.crosstab(df.ONTASK, df.CODER, normalize='columns'))\n",
    "display(pd.crosstab(df.ONTASK, df.GRADE, normalize='columns'))\n",
    "display(pd.crosstab(df.ONTASK, df.Gender, normalize='columns'))\n",
    "display(pd.crosstab(df.ONTASK, df.Activity, normalize='columns'))"
   ]
  },
  {
   "cell_type": "code",
   "execution_count": 20,
   "id": "aac5463e",
   "metadata": {},
   "outputs": [
    {
     "data": {
      "text/html": [
       "<div>\n",
       "<style scoped>\n",
       "    .dataframe tbody tr th:only-of-type {\n",
       "        vertical-align: middle;\n",
       "    }\n",
       "\n",
       "    .dataframe tbody tr th {\n",
       "        vertical-align: top;\n",
       "    }\n",
       "\n",
       "    .dataframe thead th {\n",
       "        text-align: right;\n",
       "    }\n",
       "</style>\n",
       "<table border=\"1\" class=\"dataframe\">\n",
       "  <thead>\n",
       "    <tr style=\"text-align: right;\">\n",
       "      <th></th>\n",
       "      <th></th>\n",
       "      <th>ONTASK</th>\n",
       "      <th>N</th>\n",
       "      <th>Y</th>\n",
       "    </tr>\n",
       "    <tr>\n",
       "      <th>SCHOOL</th>\n",
       "      <th>GRADE</th>\n",
       "      <th>Gender</th>\n",
       "      <th></th>\n",
       "      <th></th>\n",
       "    </tr>\n",
       "  </thead>\n",
       "  <tbody>\n",
       "    <tr>\n",
       "      <th rowspan=\"8\" valign=\"top\">A</th>\n",
       "      <th rowspan=\"2\" valign=\"top\">0</th>\n",
       "      <th>0</th>\n",
       "      <td>0.302772</td>\n",
       "      <td>0.697228</td>\n",
       "    </tr>\n",
       "    <tr>\n",
       "      <th>1</th>\n",
       "      <td>0.339152</td>\n",
       "      <td>0.660848</td>\n",
       "    </tr>\n",
       "    <tr>\n",
       "      <th rowspan=\"2\" valign=\"top\">1</th>\n",
       "      <th>0</th>\n",
       "      <td>0.352638</td>\n",
       "      <td>0.647362</td>\n",
       "    </tr>\n",
       "    <tr>\n",
       "      <th>1</th>\n",
       "      <td>0.296435</td>\n",
       "      <td>0.703565</td>\n",
       "    </tr>\n",
       "    <tr>\n",
       "      <th rowspan=\"2\" valign=\"top\">2</th>\n",
       "      <th>0</th>\n",
       "      <td>0.345009</td>\n",
       "      <td>0.654991</td>\n",
       "    </tr>\n",
       "    <tr>\n",
       "      <th>1</th>\n",
       "      <td>0.346614</td>\n",
       "      <td>0.653386</td>\n",
       "    </tr>\n",
       "    <tr>\n",
       "      <th rowspan=\"2\" valign=\"top\">4</th>\n",
       "      <th>0</th>\n",
       "      <td>0.319244</td>\n",
       "      <td>0.680756</td>\n",
       "    </tr>\n",
       "    <tr>\n",
       "      <th>1</th>\n",
       "      <td>0.253585</td>\n",
       "      <td>0.746415</td>\n",
       "    </tr>\n",
       "    <tr>\n",
       "      <th rowspan=\"10\" valign=\"top\">B</th>\n",
       "      <th rowspan=\"2\" valign=\"top\">0</th>\n",
       "      <th>0</th>\n",
       "      <td>0.313462</td>\n",
       "      <td>0.686538</td>\n",
       "    </tr>\n",
       "    <tr>\n",
       "      <th>1</th>\n",
       "      <td>0.308824</td>\n",
       "      <td>0.691176</td>\n",
       "    </tr>\n",
       "    <tr>\n",
       "      <th rowspan=\"2\" valign=\"top\">1</th>\n",
       "      <th>0</th>\n",
       "      <td>0.361502</td>\n",
       "      <td>0.638498</td>\n",
       "    </tr>\n",
       "    <tr>\n",
       "      <th>1</th>\n",
       "      <td>0.327354</td>\n",
       "      <td>0.672646</td>\n",
       "    </tr>\n",
       "    <tr>\n",
       "      <th rowspan=\"2\" valign=\"top\">2</th>\n",
       "      <th>0</th>\n",
       "      <td>0.277886</td>\n",
       "      <td>0.722114</td>\n",
       "    </tr>\n",
       "    <tr>\n",
       "      <th>1</th>\n",
       "      <td>0.221640</td>\n",
       "      <td>0.778360</td>\n",
       "    </tr>\n",
       "    <tr>\n",
       "      <th rowspan=\"2\" valign=\"top\">3</th>\n",
       "      <th>0</th>\n",
       "      <td>0.367059</td>\n",
       "      <td>0.632941</td>\n",
       "    </tr>\n",
       "    <tr>\n",
       "      <th>1</th>\n",
       "      <td>0.272876</td>\n",
       "      <td>0.727124</td>\n",
       "    </tr>\n",
       "    <tr>\n",
       "      <th rowspan=\"2\" valign=\"top\">4</th>\n",
       "      <th>0</th>\n",
       "      <td>0.395232</td>\n",
       "      <td>0.604768</td>\n",
       "    </tr>\n",
       "    <tr>\n",
       "      <th>1</th>\n",
       "      <td>0.355623</td>\n",
       "      <td>0.644377</td>\n",
       "    </tr>\n",
       "    <tr>\n",
       "      <th rowspan=\"10\" valign=\"top\">C</th>\n",
       "      <th rowspan=\"2\" valign=\"top\">0</th>\n",
       "      <th>0</th>\n",
       "      <td>0.248344</td>\n",
       "      <td>0.751656</td>\n",
       "    </tr>\n",
       "    <tr>\n",
       "      <th>1</th>\n",
       "      <td>0.221973</td>\n",
       "      <td>0.778027</td>\n",
       "    </tr>\n",
       "    <tr>\n",
       "      <th rowspan=\"2\" valign=\"top\">1</th>\n",
       "      <th>0</th>\n",
       "      <td>0.369658</td>\n",
       "      <td>0.630342</td>\n",
       "    </tr>\n",
       "    <tr>\n",
       "      <th>1</th>\n",
       "      <td>0.320939</td>\n",
       "      <td>0.679061</td>\n",
       "    </tr>\n",
       "    <tr>\n",
       "      <th rowspan=\"2\" valign=\"top\">2</th>\n",
       "      <th>0</th>\n",
       "      <td>0.470738</td>\n",
       "      <td>0.529262</td>\n",
       "    </tr>\n",
       "    <tr>\n",
       "      <th>1</th>\n",
       "      <td>0.296610</td>\n",
       "      <td>0.703390</td>\n",
       "    </tr>\n",
       "    <tr>\n",
       "      <th rowspan=\"2\" valign=\"top\">3</th>\n",
       "      <th>0</th>\n",
       "      <td>0.234884</td>\n",
       "      <td>0.765116</td>\n",
       "    </tr>\n",
       "    <tr>\n",
       "      <th>1</th>\n",
       "      <td>0.263473</td>\n",
       "      <td>0.736527</td>\n",
       "    </tr>\n",
       "    <tr>\n",
       "      <th rowspan=\"2\" valign=\"top\">4</th>\n",
       "      <th>0</th>\n",
       "      <td>0.230906</td>\n",
       "      <td>0.769094</td>\n",
       "    </tr>\n",
       "    <tr>\n",
       "      <th>1</th>\n",
       "      <td>0.228986</td>\n",
       "      <td>0.771014</td>\n",
       "    </tr>\n",
       "    <tr>\n",
       "      <th rowspan=\"6\" valign=\"top\">D</th>\n",
       "      <th rowspan=\"2\" valign=\"top\">0</th>\n",
       "      <th>0</th>\n",
       "      <td>0.253886</td>\n",
       "      <td>0.746114</td>\n",
       "    </tr>\n",
       "    <tr>\n",
       "      <th>1</th>\n",
       "      <td>0.324503</td>\n",
       "      <td>0.675497</td>\n",
       "    </tr>\n",
       "    <tr>\n",
       "      <th rowspan=\"2\" valign=\"top\">2</th>\n",
       "      <th>0</th>\n",
       "      <td>0.309568</td>\n",
       "      <td>0.690432</td>\n",
       "    </tr>\n",
       "    <tr>\n",
       "      <th>1</th>\n",
       "      <td>0.270609</td>\n",
       "      <td>0.729391</td>\n",
       "    </tr>\n",
       "    <tr>\n",
       "      <th rowspan=\"2\" valign=\"top\">4</th>\n",
       "      <th>0</th>\n",
       "      <td>0.486631</td>\n",
       "      <td>0.513369</td>\n",
       "    </tr>\n",
       "    <tr>\n",
       "      <th>1</th>\n",
       "      <td>0.404000</td>\n",
       "      <td>0.596000</td>\n",
       "    </tr>\n",
       "    <tr>\n",
       "      <th rowspan=\"8\" valign=\"top\">E</th>\n",
       "      <th rowspan=\"2\" valign=\"top\">0</th>\n",
       "      <th>0</th>\n",
       "      <td>0.310030</td>\n",
       "      <td>0.689970</td>\n",
       "    </tr>\n",
       "    <tr>\n",
       "      <th>1</th>\n",
       "      <td>0.240688</td>\n",
       "      <td>0.759312</td>\n",
       "    </tr>\n",
       "    <tr>\n",
       "      <th rowspan=\"2\" valign=\"top\">1</th>\n",
       "      <th>0</th>\n",
       "      <td>0.336170</td>\n",
       "      <td>0.663830</td>\n",
       "    </tr>\n",
       "    <tr>\n",
       "      <th>1</th>\n",
       "      <td>0.299435</td>\n",
       "      <td>0.700565</td>\n",
       "    </tr>\n",
       "    <tr>\n",
       "      <th rowspan=\"2\" valign=\"top\">2</th>\n",
       "      <th>0</th>\n",
       "      <td>0.367220</td>\n",
       "      <td>0.632780</td>\n",
       "    </tr>\n",
       "    <tr>\n",
       "      <th>1</th>\n",
       "      <td>0.357414</td>\n",
       "      <td>0.642586</td>\n",
       "    </tr>\n",
       "    <tr>\n",
       "      <th rowspan=\"2\" valign=\"top\">4</th>\n",
       "      <th>0</th>\n",
       "      <td>0.634434</td>\n",
       "      <td>0.365566</td>\n",
       "    </tr>\n",
       "    <tr>\n",
       "      <th>1</th>\n",
       "      <td>0.495798</td>\n",
       "      <td>0.504202</td>\n",
       "    </tr>\n",
       "  </tbody>\n",
       "</table>\n",
       "</div>"
      ],
      "text/plain": [
       "ONTASK                      N         Y\n",
       "SCHOOL GRADE Gender                    \n",
       "A      0     0       0.302772  0.697228\n",
       "             1       0.339152  0.660848\n",
       "       1     0       0.352638  0.647362\n",
       "             1       0.296435  0.703565\n",
       "       2     0       0.345009  0.654991\n",
       "             1       0.346614  0.653386\n",
       "       4     0       0.319244  0.680756\n",
       "             1       0.253585  0.746415\n",
       "B      0     0       0.313462  0.686538\n",
       "             1       0.308824  0.691176\n",
       "       1     0       0.361502  0.638498\n",
       "             1       0.327354  0.672646\n",
       "       2     0       0.277886  0.722114\n",
       "             1       0.221640  0.778360\n",
       "       3     0       0.367059  0.632941\n",
       "             1       0.272876  0.727124\n",
       "       4     0       0.395232  0.604768\n",
       "             1       0.355623  0.644377\n",
       "C      0     0       0.248344  0.751656\n",
       "             1       0.221973  0.778027\n",
       "       1     0       0.369658  0.630342\n",
       "             1       0.320939  0.679061\n",
       "       2     0       0.470738  0.529262\n",
       "             1       0.296610  0.703390\n",
       "       3     0       0.234884  0.765116\n",
       "             1       0.263473  0.736527\n",
       "       4     0       0.230906  0.769094\n",
       "             1       0.228986  0.771014\n",
       "D      0     0       0.253886  0.746114\n",
       "             1       0.324503  0.675497\n",
       "       2     0       0.309568  0.690432\n",
       "             1       0.270609  0.729391\n",
       "       4     0       0.486631  0.513369\n",
       "             1       0.404000  0.596000\n",
       "E      0     0       0.310030  0.689970\n",
       "             1       0.240688  0.759312\n",
       "       1     0       0.336170  0.663830\n",
       "             1       0.299435  0.700565\n",
       "       2     0       0.367220  0.632780\n",
       "             1       0.357414  0.642586\n",
       "       4     0       0.634434  0.365566\n",
       "             1       0.495798  0.504202"
      ]
     },
     "metadata": {},
     "output_type": "display_data"
    }
   ],
   "source": [
    "display(pd.crosstab([df.SCHOOL, df.GRADE, df.Gender], df.ONTASK, normalize='index'))"
   ]
  },
  {
   "cell_type": "markdown",
   "id": "7662c1ae",
   "metadata": {},
   "source": [
    "Check numerical variables against On- and Off-task"
   ]
  },
  {
   "cell_type": "code",
   "execution_count": 11,
   "id": "d2748d3c",
   "metadata": {},
   "outputs": [
    {
     "data": {
      "text/plain": [
       "<seaborn.axisgrid.PairGrid at 0x7fbec229c5b0>"
      ]
     },
     "execution_count": 11,
     "metadata": {},
     "output_type": "execute_result"
    },
    {
     "data": {
      "image/png": "[encoded data removed]",
      "text/plain": [
       "<Figure size 768.125x720 with 20 Axes>"
      ]
     },
     "metadata": {
      "needs_background": "light"
     },
     "output_type": "display_data"
    }
   ],
   "source": [
    "import seaborn as sns\n",
    "\n",
    "sns.pairplot(df[['OBSNUM', 'ONTASK', 'TRANSITIONS', 'FORMATchanges', 'Total Time']], hue = 'ONTASK')"
   ]
  },
  {
   "cell_type": "markdown",
   "id": "41cb7eb0",
   "metadata": {},
   "source": [
    "#### Analysis:\n",
    "Apparently there are no very clear distinctions to predict the On-task behavior of children. So let's prepare the data and do some regressions to test the potential power of that."
   ]
  },
  {
   "cell_type": "markdown",
   "id": "d9487af9",
   "metadata": {},
   "source": [
    "**Validation data:**"
   ]
  },
  {
   "cell_type": "code",
   "execution_count": 52,
   "id": "e99f9ef3",
   "metadata": {},
   "outputs": [
    {
     "name": "stdout",
     "output_type": "stream",
     "text": [
      "Y    3698\n",
      "N    1849\n",
      "Name: ONTASK, dtype: int64\n"
     ]
    },
    {
     "data": {
      "text/plain": [
       "Y    0.666667\n",
       "N    0.333333\n",
       "Name: ONTASK, dtype: float64"
      ]
     },
     "execution_count": 52,
     "metadata": {},
     "output_type": "execute_result"
    }
   ],
   "source": [
    "print(dv.ONTASK.value_counts())\n",
    "dv.ONTASK.value_counts(normalize = True)"
   ]
  },
  {
   "cell_type": "markdown",
   "id": "248caaa1",
   "metadata": {},
   "source": [
    "## 3. Prediction"
   ]
  },
  {
   "cell_type": "markdown",
   "id": "efcd3d2d",
   "metadata": {},
   "source": [
    "In the subsections below are different methods that were tested to try to achieve a good prediction. Each method includes its data preparation, data processing, prediction and results"
   ]
  },
  {
   "cell_type": "code",
   "execution_count": 6,
   "id": "da196e9d",
   "metadata": {},
   "outputs": [],
   "source": [
    "# Import the packages that will be used in all the processes:\n",
    "from sklearn.linear_model import LogisticRegression\n",
    "from patsy import dmatrices # If you have Statsmodels this package should've been installed with it.\n",
    "from sklearn.metrics import confusion_matrix\n",
    "from sklearn.metrics import accuracy_score\n",
    "from sklearn.preprocessing import MinMaxScaler\n",
    "from sklearn.feature_selection import RFECV\n",
    "from sklearn.naive_bayes import BernoulliNB"
   ]
  },
  {
   "cell_type": "markdown",
   "id": "2cce93d9",
   "metadata": {},
   "source": [
    "### 3.1 Logistic regression\n",
    "In this subsection we will try to make a logistic regression changing all the categorical variables into dummy coding and see what happens."
   ]
  },
  {
   "cell_type": "markdown",
   "id": "e386415e",
   "metadata": {},
   "source": [
    "#### 3.1.1 Data preparation"
   ]
  },
  {
   "cell_type": "code",
   "execution_count": 7,
   "id": "9ad75290",
   "metadata": {},
   "outputs": [],
   "source": [
    "#Define a function to prepare data for this case and that will be useful for the validation data and other methods\n",
    "def prepare_data(df):\n",
    "    dfx = df.loc[:, df.columns != 'ONTASK']\n",
    "    # Encode dummy variables (Gender is not included because it is already encoded)\n",
    "    Xs = pd.get_dummies(dfx, columns = ['SCHOOL', 'GRADE', 'CODER', 'Activity'])\n",
    "\n",
    "    # Format ONTASK as binary\n",
    "    Y = df['ONTASK'].replace(to_replace = ['Y', 'N'], value = [1, 0])\n",
    "    return Xs, Y"
   ]
  },
  {
   "cell_type": "markdown",
   "id": "e07f4967",
   "metadata": {},
   "source": [
    "With this way of prepareing data we get a total of 26 variables"
   ]
  },
  {
   "cell_type": "markdown",
   "id": "d626b8aa",
   "metadata": {},
   "source": [
    "#### 3.1.2 Model fitting"
   ]
  },
  {
   "cell_type": "code",
   "execution_count": 10,
   "id": "21c54055",
   "metadata": {},
   "outputs": [],
   "source": [
    "Xs, Y = prepare_data(df)\n",
    "\n",
    "logit = LogisticRegression()\n",
    "logit.fit(Xs, Y)"
   ]
  },
  {
   "cell_type": "markdown",
   "id": "fa992a3f",
   "metadata": {},
   "source": [
    "#### 3.1.3 Prediction for training and validation data"
   ]
  },
  {
   "cell_type": "code",
   "execution_count": 13,
   "id": "0505368e",
   "metadata": {},
   "outputs": [],
   "source": [
    "pred_logit = logit.predict(Xs)\n",
    "\n",
    "Xtest, Ytest = prepare_data(dv)\n",
    "pred_test = logit.predict(Xtest)"
   ]
  },
  {
   "cell_type": "markdown",
   "id": "69dd1708",
   "metadata": {},
   "source": [
    "#### 3.1.4 Results"
   ]
  },
  {
   "cell_type": "code",
   "execution_count": 18,
   "id": "86af7f3e",
   "metadata": {},
   "outputs": [
    {
     "name": "stdout",
     "output_type": "stream",
     "text": [
      "Training data\n",
      "Accuracy:  0.6736386584926073\n",
      "Confusion matrix: \n",
      " [[    7  7239]\n",
      " [    1 14937]]\n",
      "\n",
      "\n",
      "Validation data\n",
      "Accuracy:  0.6666666666666666\n",
      "Confusion matrix: \n",
      " [[   0 1849]\n",
      " [   0 3698]]\n"
     ]
    }
   ],
   "source": [
    "print('Training data')\n",
    "print('Accuracy: ', accuracy_score(Y, pred_logit))\n",
    "print('Confusion matrix: \\n', confusion_matrix(Y, pred_logit))\n",
    "\n",
    "print('\\n')\n",
    "\n",
    "print('Validation data')\n",
    "print('Accuracy: ', accuracy_score(Ytest, pred_test))\n",
    "print('Confusion matrix: \\n', confusion_matrix(Ytest, pred_test))"
   ]
  },
  {
   "cell_type": "markdown",
   "id": "fe55244a",
   "metadata": {},
   "source": [
    "### 3.2 Logistic regression with feature selection\n",
    "\n",
    "In this section we will use the same data than with the last section but we will select the features that give the best prediction. For this we will use the RFECV object available with Scikit Learn to recursively search for the best combination of variables (the execution time could take a bit of time)."
   ]
  },
  {
   "cell_type": "markdown",
   "id": "dbdf61d1",
   "metadata": {},
   "source": [
    "#### 3.2.1 Data preparation\n",
    "We will use the same data used in the original Logistic Regression."
   ]
  },
  {
   "cell_type": "markdown",
   "id": "96bbe762",
   "metadata": {},
   "source": [
    "#### 3.2.2 Model fitting"
   ]
  },
  {
   "cell_type": "code",
   "execution_count": 24,
   "id": "1bccc27e",
   "metadata": {},
   "outputs": [
    {
     "name": "stdout",
     "output_type": "stream",
     "text": [
      "Optimal number of features : 21  / 26\n",
      "\n",
      "Excluded variables:\n",
      "OBSNUM\n",
      "totalobs-forsession\n",
      "Obsv/act\n",
      "Total Time\n",
      "SCHOOL_D\n"
     ]
    }
   ],
   "source": [
    "logit2 = LogisticRegression(max_iter = 500) # Increment number of iterations to let it achieve the optimal fitting\n",
    "\n",
    "min_features_to_select = 1  # Minimum number of features to consider\n",
    "rfecv = RFECV(estimator=logit2, step=1, cv=None,\n",
    "              scoring='accuracy',\n",
    "              min_features_to_select=min_features_to_select)\n",
    "rfecv.fit(Xs, Y)\n",
    "\n",
    "print(\"Optimal number of features : %d\" % rfecv.n_features_, ' / 26')\n",
    "\n",
    "# We print the variables selected by rfecv\n",
    "print(\"\\nExcluded variables:\")\n",
    "predictors = rfecv.support_\n",
    "for i in range(0, len(predictors)):\n",
    "    if not predictors[i]:\n",
    "        print(Xs.columns[i])"
   ]
  },
  {
   "cell_type": "markdown",
   "id": "cd95a3e6",
   "metadata": {},
   "source": [
    "#### 3.2.3 Prediction for training and validation data"
   ]
  },
  {
   "cell_type": "code",
   "execution_count": 25,
   "id": "b2c4a6d3",
   "metadata": {},
   "outputs": [],
   "source": [
    "Yrfe = rfecv.predict(Xs)\n",
    "Yrfetest = rfecv.predict(Xtest)"
   ]
  },
  {
   "cell_type": "markdown",
   "id": "85b5f9a8",
   "metadata": {},
   "source": [
    "#### 3.2.4 Results"
   ]
  },
  {
   "cell_type": "code",
   "execution_count": 26,
   "id": "1c0069f0",
   "metadata": {},
   "outputs": [
    {
     "name": "stdout",
     "output_type": "stream",
     "text": [
      "Training data\n",
      "Accuracy:  0.676613775694194\n",
      "Confusion matrix: \n",
      " [[  143  7103]\n",
      " [   71 14867]]\n",
      "\n",
      "\n",
      "Validation data\n",
      "Accuracy:  0.668108887687038\n",
      "Confusion matrix: \n",
      " [[  32 1817]\n",
      " [  24 3674]]\n"
     ]
    }
   ],
   "source": [
    "print('Training data')\n",
    "print('Accuracy: ', accuracy_score(Y, Yrfe))\n",
    "print('Confusion matrix: \\n', confusion_matrix(Y, Yrfe))\n",
    "\n",
    "print('\\n')\n",
    "\n",
    "print('Validation data')\n",
    "print('Accuracy: ', accuracy_score(Ytest, Yrfetest))\n",
    "print('Confusion matrix: \\n', confusion_matrix(Ytest, Yrfetest))"
   ]
  },
  {
   "cell_type": "markdown",
   "id": "05275adf",
   "metadata": {},
   "source": [
    "### 3.3 Naive Bayes (Bernoulli) with feature selection\n",
    "In this subsection we will implement the Bernoulli approach to Naive Bayes method. We'll also add feature selection with RFECV."
   ]
  },
  {
   "cell_type": "markdown",
   "id": "6a5adc5f",
   "metadata": {},
   "source": [
    "#### 3.3.1 Data preparation\n",
    "Same data as previous sections."
   ]
  },
  {
   "cell_type": "markdown",
   "id": "a06c3fb6",
   "metadata": {},
   "source": [
    "#### 3.3.2 Model fitting"
   ]
  },
  {
   "cell_type": "code",
   "execution_count": 30,
   "id": "70003da4",
   "metadata": {},
   "outputs": [
    {
     "name": "stdout",
     "output_type": "stream",
     "text": [
      "Optimal number of features : 23  / 26\n",
      "\n",
      "Excluded variables:\n",
      "OBSNUM\n",
      "totalobs-forsession\n",
      "Obsv/act\n"
     ]
    }
   ],
   "source": [
    "# We disable warnings because for the version used in sklearn will be a change in a variable name and it is being announced\n",
    "import warnings\n",
    "warnings.filterwarnings('ignore')\n",
    "\n",
    "nb_model = BernoulliNB()\n",
    "\n",
    "min_features_to_select = 1  # Minimum number of features to consider\n",
    "nb_rfecv = RFECV(estimator=nb_model, step=1, cv=None,\n",
    "              scoring='accuracy',\n",
    "              min_features_to_select=min_features_to_select)\n",
    "nb_rfecv.fit(Xs, Y)\n",
    "\n",
    "print(\"Optimal number of features : %d\" % nb_rfecv.n_features_, ' / 26')\n",
    "\n",
    "# We print the variables selected by rfecv\n",
    "print(\"\\nExcluded variables:\")\n",
    "predictors = nb_rfecv.support_\n",
    "for i in range(0, len(predictors)):\n",
    "    if not predictors[i]:\n",
    "        print(Xs.columns[i])"
   ]
  },
  {
   "cell_type": "markdown",
   "id": "935885f6",
   "metadata": {},
   "source": [
    "#### 3.3.3 Prediction for training and validation data"
   ]
  },
  {
   "cell_type": "code",
   "execution_count": 31,
   "id": "01a23a3c",
   "metadata": {},
   "outputs": [],
   "source": [
    "Ynbrfe = nb_rfecv.predict(Xs)\n",
    "Ynbrfetest = nb_rfecv.predict(Xtest)"
   ]
  },
  {
   "cell_type": "markdown",
   "id": "39b40cec",
   "metadata": {},
   "source": [
    "#### 3.3.4 Results"
   ]
  },
  {
   "cell_type": "code",
   "execution_count": 32,
   "id": "6301cc40",
   "metadata": {
    "scrolled": true
   },
   "outputs": [
    {
     "name": "stdout",
     "output_type": "stream",
     "text": [
      "Training data\n",
      "Accuracy:  0.6766588532275514\n",
      "Confusion matrix: \n",
      " [[  157  7089]\n",
      " [   84 14854]]\n",
      "\n",
      "\n",
      "Validation data\n",
      "Accuracy:  0.6677483324319452\n",
      "Confusion matrix: \n",
      " [[  34 1815]\n",
      " [  28 3670]]\n"
     ]
    }
   ],
   "source": [
    "print('Training data')\n",
    "print('Accuracy: ', accuracy_score(Y, Ynbrfe))\n",
    "print('Confusion matrix: \\n', confusion_matrix(Y, Ynbrfe))\n",
    "\n",
    "print('\\n')\n",
    "\n",
    "print('Validation data')\n",
    "print('Accuracy: ', accuracy_score(Ytest, Ynbrfetest))\n",
    "print('Confusion matrix: \\n', confusion_matrix(Ytest, Ynbrfetest))"
   ]
  },
  {
   "cell_type": "markdown",
   "id": "7277669f",
   "metadata": {},
   "source": [
    "### 3.4 Logistic Regression with interactions\n",
    "For this model we will create interactions between categorical variables encoded as dummy variables and the continous variables. This will consider the effects of continuous variables differently for each case of categorical variables"
   ]
  },
  {
   "cell_type": "markdown",
   "id": "b1db72eb",
   "metadata": {},
   "source": [
    "#### 3.4.1 Data preparation\n",
    "For this method we will prepare the data using the Patsy package, it will allow us to rapidly create the interaction variables. The problem is that this will create 4,800 different variables and for processing time and other factors I wasn't able to refine the search for the most important."
   ]
  },
  {
   "cell_type": "code",
   "execution_count": 37,
   "id": "bdfc67c1",
   "metadata": {},
   "outputs": [],
   "source": [
    "# Change variable names and create the distinction between categorical and continuous variables\n",
    "column_changes = { 'Total Time' : 'Total_time', \n",
    "                        'totalobs-forsession' : 'totalobs_forsession',\n",
    "                        'Obsv/act' : 'Obsv_act',\n",
    "                        'Transitions/Durations' : 'Transitions_Durations'}\n",
    "df_int = df.rename(columns = column_changes)\n",
    "dv_int = dv.rename(columns = column_changes)\n",
    "\n",
    "cat_vars = ['SCHOOL', 'GRADE', 'CODER', 'Activity', 'Gender']\n",
    "cont_vars = ['OBSNUM', 'totalobs_forsession','TRANSITIONS','FORMATchanges', 'Obsv_act', 'Transitions_Durations', 'Total_time']"
   ]
  },
  {
   "cell_type": "markdown",
   "id": "ec352064",
   "metadata": {},
   "source": [
    "Now we will create the Patsy string that will have the following format (assuming 2 categorical variables CatA and CatB with 2 categories each, and 2 continuous variables ContA and ContB):<br />\n",
    "\"Y ~ (CatA * CatB) / (ContA + ContB)\"<br />\n",
    "and translates into this columns:<br />\n",
    "Y | CatA_2 | CatB_2 | CatA_2 * CatB_2 | <br />\n",
    "ContA | CatA_2 * ContA | CatB_2 * ContA | CatA_2 * CatB_2 * ContA | <br />\n",
    "ContB | CatA_2 * ContB | CatB_2 * ContB | CatA_2 * CatB_2 * ContB\n",
    "<br />\n",
    "<br />\n",
    "For each continuous variable we substract its mean to improve the performance of the model fitting"
   ]
  },
  {
   "cell_type": "code",
   "execution_count": 34,
   "id": "d44a3c43",
   "metadata": {},
   "outputs": [
    {
     "name": "stdout",
     "output_type": "stream",
     "text": [
      "ONTASK ~ (C(SCHOOL) * C(GRADE) * C(CODER) * C(Activity) * C(Gender)) / ((OBSNUM - np.mean(OBSNUM)) + (totalobs_forsession - np.mean(totalobs_forsession)) + (TRANSITIONS - np.mean(TRANSITIONS)) + (FORMATchanges - np.mean(FORMATchanges)) + (Obsv_act - np.mean(Obsv_act)) + (Transitions_Durations - np.mean(Transitions_Durations)) + (Total_time - np.mean(Total_time)))\n"
     ]
    }
   ],
   "source": [
    "patsy_str = 'ONTASK ~ ('\n",
    "\n",
    "for c in cat_vars:\n",
    "    patsy_str += 'C(' + c + ')' + (' * ' if c != 'Gender' else ') / (')\n",
    "\n",
    "for c in cont_vars:\n",
    "    patsy_str += '(' + c + ' - np.mean(' + c + '))' + (' + ' if c != 'Total_time' else ')')\n",
    "    \n",
    "print(patsy_str)"
   ]
  },
  {
   "cell_type": "markdown",
   "id": "82c65ec3",
   "metadata": {},
   "source": [
    "Do this for training and validation data (this step could take a while)"
   ]
  },
  {
   "cell_type": "code",
   "execution_count": 39,
   "id": "702255cf",
   "metadata": {},
   "outputs": [],
   "source": [
    "ontask, X_int = dmatrices(patsy_str, data=df_int, return_type='dataframe')\n",
    "y_int = ontask ['ONTASK[Y]']\n",
    "\n",
    "ontask_test, X_int_test = dmatrices(patsy_str, data=dv_int, return_type='dataframe')\n",
    "y_int_test = ontask_test ['ONTASK[Y]']"
   ]
  },
  {
   "cell_type": "markdown",
   "id": "924ccea8",
   "metadata": {},
   "source": [
    "#### 3.4.2 Model fitting\n",
    "We will augment the maximum iterations to improve the accuracy, but it has so many variables that it won't achieve the optimal model, however it can be good enough. This code will take several minutes of execution."
   ]
  },
  {
   "cell_type": "code",
   "execution_count": 40,
   "id": "2f11cec5",
   "metadata": {},
   "outputs": [
    {
     "data": {
      "text/plain": [
       "LogisticRegression(max_iter=10000)"
      ]
     },
     "execution_count": 40,
     "metadata": {},
     "output_type": "execute_result"
    }
   ],
   "source": [
    "logit_int = LogisticRegression(max_iter = 10000, tol=1e-4)\n",
    "\n",
    "\n",
    "logit_int.fit(X_int, y_int)"
   ]
  },
  {
   "cell_type": "markdown",
   "id": "254857ce",
   "metadata": {},
   "source": [
    "(As the warnings were turned off, this piece of code is not telling that the optimal model wasn't achieved)"
   ]
  },
  {
   "cell_type": "markdown",
   "id": "c01c1f7d",
   "metadata": {},
   "source": [
    "#### 3.4.3 Predictions"
   ]
  },
  {
   "cell_type": "code",
   "execution_count": 42,
   "id": "b6522882",
   "metadata": {},
   "outputs": [],
   "source": [
    "y_int_pred = logit_int.predict(X_int)\n",
    "y_int_pred_test = logit_int.predict(X_int_test)"
   ]
  },
  {
   "cell_type": "markdown",
   "id": "7bae08c7",
   "metadata": {},
   "source": [
    "#### 3.4.4 Results"
   ]
  },
  {
   "cell_type": "code",
   "execution_count": 43,
   "id": "345c58bb",
   "metadata": {},
   "outputs": [
    {
     "name": "stdout",
     "output_type": "stream",
     "text": [
      "Training data\n",
      "Accuracy:  0.6945546339704292\n",
      "Confusion matrix: \n",
      " [[ 1350  5896]\n",
      " [  880 14058]]\n",
      "\n",
      "\n",
      "Validation data\n",
      "Accuracy:  0.6704524968451415\n",
      "Confusion matrix: \n",
      " [[ 276 1573]\n",
      " [ 255 3443]]\n"
     ]
    }
   ],
   "source": [
    "print('Training data')\n",
    "print('Accuracy: ', accuracy_score(y_int, y_int_pred))\n",
    "print('Confusion matrix: \\n', confusion_matrix(y_int, y_int_pred))\n",
    "\n",
    "print('\\n')\n",
    "\n",
    "print('Validation data')\n",
    "print('Accuracy: ', accuracy_score(y_int_test, y_int_pred_test))\n",
    "print('Confusion matrix: \\n', confusion_matrix(y_int_test, y_int_pred_test))"
   ]
  },
  {
   "cell_type": "markdown",
   "id": "c4ea1574",
   "metadata": {},
   "source": [
    "### 3.5 Logistic Regression with interactions\n",
    "Here we will do the same as the previous model, but we will change the optimization algorithm for the logistic regression. This will improve processing performance, but it will make loss of accuracy."
   ]
  },
  {
   "cell_type": "markdown",
   "id": "49cf72c9",
   "metadata": {},
   "source": [
    "#### 3.5.1 Data preparation\n",
    "Same as the previous model, but the solver needs preprocessed variables, so we will use MinMax standardization"
   ]
  },
  {
   "cell_type": "code",
   "execution_count": 48,
   "id": "165f0601",
   "metadata": {},
   "outputs": [],
   "source": [
    "scaler = MinMaxScaler()\n",
    "scaler.fit(X_int)\n",
    "X_int_st = scaler.transform(X_int)\n",
    "\n",
    "scalertest = MinMaxScaler()\n",
    "scalertest.fit(X_int_test)\n",
    "X_int_st_test = scalertest.transform(X_int_test)"
   ]
  },
  {
   "cell_type": "markdown",
   "id": "14e5a6c6",
   "metadata": {},
   "source": [
    "#### 3.5.2 Model fitting\n",
    "We will use the 'sag' method."
   ]
  },
  {
   "cell_type": "code",
   "execution_count": 47,
   "id": "bf4dbd79",
   "metadata": {},
   "outputs": [
    {
     "data": {
      "text/plain": [
       "LogisticRegression(max_iter=10000, solver='sag')"
      ]
     },
     "execution_count": 47,
     "metadata": {},
     "output_type": "execute_result"
    }
   ],
   "source": [
    "logit_int_sag = LogisticRegression(max_iter = 10000, tol=1e-4, solver = 'sag')\n",
    "logit_int_sag.fit(X_int_st, y_int)"
   ]
  },
  {
   "cell_type": "markdown",
   "id": "4c7df6fa",
   "metadata": {},
   "source": [
    "#### 3.5.3 Prediction\n"
   ]
  },
  {
   "cell_type": "code",
   "execution_count": 49,
   "id": "2ce09bcf",
   "metadata": {},
   "outputs": [],
   "source": [
    "y_int_pred_st = logit_int_sag.predict(X_int)\n",
    "y_int_pred_test_st = logit_int_sag.predict(X_int_st_test)"
   ]
  },
  {
   "cell_type": "markdown",
   "id": "244865ae",
   "metadata": {},
   "source": [
    "#### 3.5.4 Results"
   ]
  },
  {
   "cell_type": "code",
   "execution_count": 50,
   "id": "90275920",
   "metadata": {},
   "outputs": [
    {
     "name": "stdout",
     "output_type": "stream",
     "text": [
      "Training data\n",
      "Accuracy:  0.49580778939776415\n",
      "Confusion matrix: \n",
      " [[4950 2296]\n",
      " [8889 6049]]\n",
      "\n",
      "\n",
      "Validation data\n",
      "Accuracy:  0.6765819361817198\n",
      "Confusion matrix: \n",
      " [[ 239 1610]\n",
      " [ 184 3514]]\n"
     ]
    }
   ],
   "source": [
    "print('Training data')\n",
    "print('Accuracy: ', accuracy_score(y_int, y_int_pred_st))\n",
    "print('Confusion matrix: \\n', confusion_matrix(y_int, y_int_pred_st))\n",
    "\n",
    "print('\\n')\n",
    "\n",
    "print('Validation data')\n",
    "print('Accuracy: ', accuracy_score(y_int_test, y_int_pred_test_st))\n",
    "print('Confusion matrix: \\n', confusion_matrix(y_int_test, y_int_pred_test_st))"
   ]
  },
  {
   "cell_type": "markdown",
   "id": "24e49cdd",
   "metadata": {},
   "source": [
    "## 4. Results\n",
    "The following tables summarizes the results obtained in each model (On-task and Off-task rows are the True predictions for each classification):"
   ]
  },
  {
   "cell_type": "markdown",
   "id": "e34f2f31",
   "metadata": {},
   "source": [
    "|          | Training data | Logistic Regression | LogReg with RFECV | Bernoulli with RFECV | LogReg with interactions | LogReg w/int alt solver |\n",
    "|----------|---------------|---------------------|-------------------|----------------------|--------------------------|-------------------------|\n",
    "| Accuracy | 100%          | 67.36%              | 67.66%            | 67.67%               | 69.46%                   | 49.58%                  |\n",
    "| On-task  | 14938         | 14937               | 14867             | 14854                | 14058                    | 6049                    |\n",
    "| Off-task | 7246          | 7                   | 143               | 157                  | 1350                     | 4950                    |"
   ]
  },
  {
   "cell_type": "markdown",
   "id": "11a3030c",
   "metadata": {},
   "source": [
    "|          | Training data | Logistic Regression | LogReg with RFECV | Bernoulli with RFECV | LogReg with interactions | LogReg w/int alt solver |\n",
    "|----------|---------------|---------------------|-------------------|----------------------|--------------------------|-------------------------|\n",
    "| Accuracy | 100%          | 66.67%              | 66.81%            | 66.77%               | 67.04%                   | 67.66%                  |\n",
    "| On-task  | 3698          | 3698                | 3674              | 3670                 | 3443                     | 3514                    |\n",
    "| Off-task | 1849          | 0                   | 32                | 34                   | 276                      | 239                     |"
   ]
  },
  {
   "cell_type": "markdown",
   "id": "ad94fcb6",
   "metadata": {},
   "source": [
    "## 5. Comments / Discussion\n",
    "\n",
    "The model with the best performance was the Logistic Regression with dummy coding and interactions. However, none of the methods have a very good accuracy, considering that the On-task results are approximately 67% and the best performance is 69.5% in training data and 67.7% in validation data. This means that the model only gets slightly better predictions than saying that all the observations are students on task. Nonetheless, the importance of the prediction is to find the children that are off task, and for that this models can help a little bit more than saying that all students are on task.<br />\n",
    "This shows us that not every dataset will perform and predict as we would want, and that there are several methods that can be tested (these aren't the only methods I tested, they're just a few) and that will perform differently. <br />\n",
    "Further works and improvements can be made, especially in the selection of the predictors and adjusting for Student ID (something that was left apart for this approach)."
   ]
  }
 ],
 "metadata": {
  "kernelspec": {
   "display_name": "Python 3 (ipykernel)",
   "language": "python",
   "name": "python3"
  },
  "language_info": {
   "codemirror_mode": {
    "name": "ipython",
    "version": 3
   },
   "file_extension": ".py",
   "mimetype": "text/x-python",
   "name": "python",
   "nbconvert_exporter": "python",
   "pygments_lexer": "ipython3",
   "version": "3.8.12"
  }
 },
 "nbformat": 4,
 "nbformat_minor": 5
}
