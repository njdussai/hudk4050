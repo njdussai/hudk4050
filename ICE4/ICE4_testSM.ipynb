{
 "cells": [
  {
   "cell_type": "code",
   "execution_count": 2,
   "id": "bfc11829",
   "metadata": {},
   "outputs": [
    {
     "name": "stdout",
     "output_type": "stream",
     "text": [
      "Optimization terminated successfully.\n",
      "         Current function value: 0.346576\n",
      "         Iterations: 16\n",
      "         Function evaluations: 19\n",
      "         Gradient evaluations: 19\n",
      "         Hessian evaluations: 16\n",
      "                           Logit Regression Results                           \n",
      "==============================================================================\n",
      "Dep. Variable:          certified_yes   No. Observations:                  800\n",
      "Model:                          Logit   Df Residuals:                      797\n",
      "Method:                           MLE   Df Model:                            2\n",
      "Date:                Sat, 23 Oct 2021   Pseudo R-squ.:                  0.4120\n",
      "Time:                        15:08:36   Log-Likelihood:                -277.26\n",
      "converged:                       True   LL-Null:                       -471.50\n",
      "Covariance Type:            nonrobust   LLR p-value:                 4.390e-85\n",
      "===============================================================================\n",
      "                  coef    std err          z      P>|z|      [0.025      0.975]\n",
      "-------------------------------------------------------------------------------\n",
      "forum.posts     0.0358      0.004      9.346      0.000       0.028       0.043\n",
      "grade          -0.3599      0.054     -6.666      0.000      -0.466      -0.254\n",
      "assignment      0.0676      0.029      2.319      0.020       0.010       0.125\n",
      "===============================================================================\n"
     ]
    }
   ],
   "source": [
    "import pandas as pd\n",
    "mooc = pd.read_csv(\"ICE4_Data.csv\")\n",
    "dummy = pd.get_dummies(mooc['certified'], prefix = 'certified')\n",
    "moocD = pd.concat([mooc, dummy], axis=1)\n",
    "moocD = moocD.drop(['certified', 'certified_no'], axis=1)\n",
    "\n",
    "Xs = moocD[[\"forum.posts\", \"grade\", \"assignment\"]]\n",
    "certified = moocD[\"certified_yes\"].astype('int64')\n",
    "\n",
    "from sklearn.model_selection import train_test_split\n",
    "\n",
    "## For logistic regression\n",
    "xs_logit_training, xs_logit_test, y_logit_training, y_logit_test = train_test_split(Xs, certified, test_size = 0.2, random_state=0)\n",
    "\n",
    "import statsmodels.api as sm\n",
    "\n",
    "smlogit = sm.Logit( y_logit_training, xs_logit_training)\n",
    "\n",
    "smlogitFit = smlogit.fit(method='ncg', full_output = 1, maxiter = 100, avextol = 1e-20)\n",
    "\n",
    "print(smlogitFit.summary())\n"
   ]
  }
 ],
 "metadata": {
  "kernelspec": {
   "display_name": "Python 3",
   "language": "python",
   "name": "python3"
  },
  "language_info": {
   "codemirror_mode": {
    "name": "ipython",
    "version": 3
   },
   "file_extension": ".py",
   "mimetype": "text/x-python",
   "name": "python",
   "nbconvert_exporter": "python",
   "pygments_lexer": "ipython3",
   "version": "3.8.8"
  }
 },
 "nbformat": 4,
 "nbformat_minor": 5
}
