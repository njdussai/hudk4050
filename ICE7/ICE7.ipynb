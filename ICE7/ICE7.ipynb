{
 "cells": [
  {
   "cell_type": "markdown",
   "id": "401dedf9",
   "metadata": {},
   "source": [
    "## ICE 7\n",
    "\n",
    "**Author**: Nicolas Dussaillant"
   ]
  },
  {
   "cell_type": "markdown",
   "id": "ef78c95f",
   "metadata": {},
   "source": [
    "Use one of the methods that I used for ACA 2 (Logistic regression with feature selection) and evaluate different metrics:"
   ]
  },
  {
   "cell_type": "code",
   "execution_count": 1,
   "id": "c74a2fb2",
   "metadata": {},
   "outputs": [],
   "source": [
    "import pandas as pd\n",
    "\n",
    "cols = [\n",
    "        'SCHOOL',\n",
    "        'GRADE',\n",
    "        'CODER',\n",
    "        'Gender',\n",
    "        'OBSNUM',\n",
    "        'totalobs-forsession',\n",
    "        'Activity',\n",
    "        'ONTASK',\n",
    "        'TRANSITIONS',\n",
    "        'FORMATchanges',\n",
    "        'Obsv/act',\n",
    "        'Transitions/Durations',\n",
    "        'Total Time'\n",
    "        ]\n",
    "df = pd.read_csv('aca2_dataset/aca2_dataset_training.csv', usecols = cols)\n",
    "dv = pd.read_csv('aca2_dataset/aca2_dataset_validation.csv', usecols = cols)\n"
   ]
  },
  {
   "cell_type": "code",
   "execution_count": 2,
   "id": "e3e706f7",
   "metadata": {},
   "outputs": [],
   "source": [
    "from sklearn.feature_selection import RFECV\n",
    "from sklearn.linear_model import LogisticRegression\n",
    "\n",
    "#Define a function to prepare data for this case and that will be useful for the validation data and other methods\n",
    "def prepare_data(df):\n",
    "    dfx = df.loc[:, df.columns != 'ONTASK']\n",
    "    # Encode dummy variables (Gender is not included because it is already encoded)\n",
    "    Xs = pd.get_dummies(dfx, columns = ['SCHOOL', 'GRADE', 'CODER', 'Activity'])\n",
    "\n",
    "    # Format ONTASK as binary\n",
    "    Y = df['ONTASK'].replace(to_replace = ['Y', 'N'], value = [1, 0])\n",
    "    return Xs, Y"
   ]
  },
  {
   "cell_type": "code",
   "execution_count": 3,
   "id": "fac50dbe",
   "metadata": {},
   "outputs": [
    {
     "name": "stderr",
     "output_type": "stream",
     "text": [
      "/Users/ndussaillant/opt/anaconda3/lib/python3.8/site-packages/sklearn/base.py:445: UserWarning: X does not have valid feature names, but RFECV was fitted with feature names\n",
      "  warnings.warn(\n"
     ]
    }
   ],
   "source": [
    "Xs, Y = prepare_data(df)\n",
    "logit2 = LogisticRegression(max_iter = 500) # Increment number of iterations to let it achieve the optimal fitting\n",
    "\n",
    "min_features_to_select = 1  # Minimum number of features to consider\n",
    "rfecv = RFECV(estimator=logit2, step=1, cv=None,\n",
    "              scoring='accuracy',\n",
    "              min_features_to_select=min_features_to_select)\n",
    "rfecv.fit(Xs, Y)\n",
    "\n",
    "Xtest, Ytest = prepare_data(dv)"
   ]
  },
  {
   "cell_type": "markdown",
   "id": "004d8f2f",
   "metadata": {},
   "source": [
    "### Metrics"
   ]
  },
  {
   "cell_type": "code",
   "execution_count": 4,
   "id": "b574872f",
   "metadata": {},
   "outputs": [],
   "source": [
    "import sklearn.metrics as mt\n",
    "y_train_pred = rfecv.predict(Xs)\n",
    "y_test_pred = rfecv.predict(Xtest)"
   ]
  },
  {
   "cell_type": "markdown",
   "id": "74f8b1d3",
   "metadata": {},
   "source": [
    "Precision:"
   ]
  },
  {
   "cell_type": "code",
   "execution_count": 6,
   "id": "a1a29b33",
   "metadata": {},
   "outputs": [
    {
     "name": "stdout",
     "output_type": "stream",
     "text": [
      "Training data precision: 0.6766954938552572\n",
      "Testing data precision: 0.6690948825350573\n"
     ]
    }
   ],
   "source": [
    "print(\"Training data precision:\", mt.precision_score(Y, y_train_pred))\n",
    "print(\"Testing data precision:\", mt.precision_score(Ytest, y_test_pred))"
   ]
  },
  {
   "cell_type": "markdown",
   "id": "1a8e0456",
   "metadata": {},
   "source": [
    "Recall:"
   ]
  },
  {
   "cell_type": "code",
   "execution_count": 7,
   "id": "db625b02",
   "metadata": {},
   "outputs": [
    {
     "name": "stdout",
     "output_type": "stream",
     "text": [
      "Training data recall: 0.9952470210202169\n",
      "Testing data recall: 0.9935100054083288\n"
     ]
    }
   ],
   "source": [
    "print(\"Training data recall:\", mt.recall_score(Y, y_train_pred))\n",
    "print(\"Testing data recall:\", mt.recall_score(Ytest, y_test_pred))"
   ]
  },
  {
   "cell_type": "markdown",
   "id": "6162f1e1",
   "metadata": {},
   "source": [
    "Accuracy:"
   ]
  },
  {
   "cell_type": "code",
   "execution_count": 8,
   "id": "047a899e",
   "metadata": {},
   "outputs": [
    {
     "name": "stdout",
     "output_type": "stream",
     "text": [
      "Training data accuracy: 0.676613775694194\n",
      "Testing data accuracy: 0.668108887687038\n"
     ]
    }
   ],
   "source": [
    "print(\"Training data accuracy:\", mt.accuracy_score(Y, y_train_pred))\n",
    "print(\"Testing data accuracy:\", mt.accuracy_score(Ytest, y_test_pred))"
   ]
  },
  {
   "cell_type": "markdown",
   "id": "e0ff0eef",
   "metadata": {},
   "source": [
    "F1:"
   ]
  },
  {
   "cell_type": "code",
   "execution_count": 9,
   "id": "55385035",
   "metadata": {},
   "outputs": [
    {
     "name": "stdout",
     "output_type": "stream",
     "text": [
      "Training data F1: 0.8056247967920235\n",
      "Testing data F1: 0.7996517575361846\n"
     ]
    }
   ],
   "source": [
    "print(\"Training data F1:\", mt.f1_score(Y, y_train_pred))\n",
    "print(\"Testing data F1:\", mt.f1_score(Ytest, y_test_pred))"
   ]
  },
  {
   "cell_type": "markdown",
   "id": "1078f985",
   "metadata": {},
   "source": [
    "K:"
   ]
  },
  {
   "cell_type": "code",
   "execution_count": 10,
   "id": "8edaa4f2",
   "metadata": {},
   "outputs": [
    {
     "name": "stdout",
     "output_type": "stream",
     "text": [
      "Training data Cohen's Kappa: 0.01997234434010986\n",
      "Testing data Cohen's Kappa: 0.014278065322148814\n"
     ]
    }
   ],
   "source": [
    "print(\"Training data Cohen's Kappa:\", mt.cohen_kappa_score(Y, y_train_pred))\n",
    "print(\"Testing data Cohen's Kappa:\", mt.cohen_kappa_score(Ytest, y_test_pred))"
   ]
  },
  {
   "cell_type": "markdown",
   "id": "b62e3e2e",
   "metadata": {},
   "source": [
    "We can see that comparing different metrics, the disparities in the data are represented in differences such as precision and recall. Cohen's Kappa tells us that there is none-to-slight agreement, which shows that even the accuracy is not very bad, it is mainly due the disparities of the samples."
   ]
  }
 ],
 "metadata": {
  "kernelspec": {
   "display_name": "Python 3 (ipykernel)",
   "language": "python",
   "name": "python3"
  },
  "language_info": {
   "codemirror_mode": {
    "name": "ipython",
    "version": 3
   },
   "file_extension": ".py",
   "mimetype": "text/x-python",
   "name": "python",
   "nbconvert_exporter": "python",
   "pygments_lexer": "ipython3",
   "version": "3.8.12"
  }
 },
 "nbformat": 4,
 "nbformat_minor": 5
}
